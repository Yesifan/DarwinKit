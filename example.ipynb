{
 "cells": [
  {
   "cell_type": "code",
   "execution_count": 1,
   "metadata": {},
   "outputs": [
    {
     "name": "stdout",
     "output_type": "stream",
     "text": [
      "Notebook directory: /home/ye/code/DarwinKit\n"
     ]
    }
   ],
   "source": [
    "import os\n",
    "from pathlib import Path\n",
    "\n",
    "# 获取当前工作目录\n",
    "notebook_dir = Path(os.getcwd())\n",
    "\n",
    "print(f\"Notebook directory: {notebook_dir}\")\n"
   ]
  },
  {
   "cell_type": "code",
   "execution_count": 2,
   "metadata": {},
   "outputs": [],
   "source": [
    "import torch\n",
    "import torch.nn as nn\n",
    "from dataclasses import dataclass\n",
    "from pathlib import Path\n",
    "\n",
    "\n",
    "\n",
    "@dataclass\n",
    "class MyModelConfig:\n",
    "    input_size:int = 12\n",
    "    hidden_size:int = 12\n",
    "    output_size:int = 12\n",
    "\n",
    "class MyModel(nn.Module):\n",
    "    def __init__(self, config:MyModelConfig):\n",
    "        super(MyModel, self).__init__()\n",
    "        self.config = config\n",
    "        self.fc1 = nn.Linear(config.input_size, config.hidden_size)\n",
    "        self.fc2 = nn.Linear(config.hidden_size, config.output_size)\n",
    "\n",
    "    def forward(self, x):\n",
    "        x = torch.relu(self.fc1(x))\n",
    "        x = self.fc2(x)\n",
    "        return x"
   ]
  },
  {
   "cell_type": "code",
   "execution_count": null,
   "metadata": {},
   "outputs": [
    {
     "name": "stderr",
     "output_type": "stream",
     "text": [
      "/home/ye/miniconda3/envs/darkit/lib/python3.9/site-packages/tqdm/auto.py:21: TqdmWarning: IProgress not found. Please update jupyter and ipywidgets. See https://ipywidgets.readthedocs.io/en/stable/user_install.html\n",
      "  from .autonotebook import tqdm as notebook_tqdm\n"
     ]
    },
    {
     "name": "stdout",
     "output_type": "stream",
     "text": [
      "model_cache_path: /home/ye/code/DarwinKit/.cache\n",
      "{'name': 'TEST_MODEL_43', 'max_step': 10000, 'save_step_interval': 10000}\n",
      "Cannot retrieve source code for built-in class: <class '__main__.MyModel'> is a built-in class\n",
      "Logger initialized at /home/ye/code/DarwinKit/.cache/TEST_MODEL_43/train_log.csv\n"
     ]
    },
    {
     "name": "stderr",
     "output_type": "stream",
     "text": [
      "/tmp/ipykernel_48339/535331876.py:69: UserWarning: To copy construct from a tensor, it is recommended to use sourceTensor.clone().detach() or sourceTensor.clone().detach().requires_grad_(True), rather than torch.tensor(sourceTensor).\n",
      "  train_dataset = [(torch.tensor(x), torch.tensor(y)) for _ in range(4*10000)]\n",
      "10000it [00:12, 774.74it/s]"
     ]
    },
    {
     "name": "stdout",
     "output_type": "stream",
     "text": [
      "Model saved at /home/ye/code/DarwinKit/.cache/TEST_MODEL_43\n",
      "Model saved epoch 10000/10000 at iter-10000-ckpt\n"
     ]
    },
    {
     "name": "stderr",
     "output_type": "stream",
     "text": [
      "\n"
     ]
    }
   ],
   "source": [
    "import random\n",
    "import torch.nn as nn\n",
    "import torch.nn.functional as F\n",
    "from torch.utils.data import DataLoader\n",
    "from tqdm import tqdm\n",
    "from darkit.core import Trainer, TrainerConfig\n",
    "\n",
    "from typing import Optional\n",
    "\n",
    "model_cache_path = notebook_dir / '.cache'\n",
    "\n",
    "if not model_cache_path.exists():\n",
    "    model_cache_path.mkdir()\n",
    "\n",
    "print(f\"model_cache_path: {model_cache_path}\")\n",
    "\n",
    "@dataclass\n",
    "class MyTrainerConfig(TrainerConfig):\n",
    "    device = \"cuda\"\n",
    "    lr = 1e-3\n",
    "    batch_size = 4\n",
    "    max_step: int = 10000 # 定义最大训练步数\n",
    "    save_step_interval: int = 10000 # 定义保存模型间隔\n",
    "\n",
    "\n",
    "class MyTrainer(Trainer):\n",
    "    def __init__(self, model:MyModel, config:MyTrainerConfig, **kwargs):\n",
    "        super().__init__(model, config, **kwargs)\n",
    "        self.config = config\n",
    "    \n",
    "    @property\n",
    "    def root(self):\n",
    "        return model_cache_path\n",
    "\n",
    "    def _get_optimizer(self):\n",
    "        return torch.optim.Adam(self.model.parameters(), lr=self.config.lr)\n",
    "    \n",
    "    def train(self, train_dataset, val_dataset=None):\n",
    "        # 在这里实现自定义的训练逻辑\n",
    "        dataloader = DataLoader(train_dataset, batch_size=self.config.batch_size)\n",
    "        \n",
    "        self.optimizer = self._get_optimizer()\n",
    "        for step, batch in tqdm(enumerate(dataloader)):\n",
    "            inputs, labels = batch\n",
    "            inputs = inputs.to(self.config.device)\n",
    "            labels = labels.to(self.config.device)\n",
    "\n",
    "            outputs = self.model(inputs)\n",
    "            loss = F.mse_loss(outputs, labels)\n",
    "            loss.backward()\n",
    "            self.optimizer.step()\n",
    "            \n",
    "            # 调用 Trainer 父类提供的保存和评估方法\n",
    "            # 会根据 config 提供的参数来控制保存和评估的逻辑\n",
    "            self.current_step = step\n",
    "            self._auto_save_pretrained()\n",
    "\n",
    "Trainer.register(MyModel.__name__, MyTrainer)\n",
    "\n",
    "name = f\"TEST_MODEL_{random.randint(10,99)}\"\n",
    "mconf = MyModelConfig()\n",
    "model = MyModel(mconf)\n",
    "tconf = MyTrainerConfig(name=name)\n",
    "trainer = Trainer(model, tconf)\n",
    "\n",
    "# 生成一些随机数据\n",
    "x = torch.randn(12)\n",
    "y = torch.randn(12)\n",
    "train_dataset = [(torch.tensor(x), torch.tensor(y)) for _ in range(4*10000)]\n",
    "\n",
    "trainer.train(train_dataset)"
   ]
  },
  {
   "cell_type": "code",
   "execution_count": 4,
   "metadata": {},
   "outputs": [
    {
     "data": {
      "text/plain": [
       "tensor([-145.0064,   68.5688,  502.8868, -548.7836,  -20.6441,  131.5918,\n",
       "        -194.9134,  166.2308,  327.5081,  171.0134, -473.6718,   25.5564],\n",
       "       device='cuda:0', grad_fn=<ViewBackward0>)"
      ]
     },
     "execution_count": 4,
     "metadata": {},
     "output_type": "execute_result"
    }
   ],
   "source": [
    "from darkit.core import Predicter\n",
    "\n",
    "class MyPredicter(Predicter):\n",
    "    def __init__(self, name, model, device=\"cpu\"):\n",
    "        super().__init__(name, model, device)\n",
    "    \n",
    "    @classmethod\n",
    "    def get_root(cls) -> Path:\n",
    "        return model_cache_path\n",
    "    \n",
    "    @classmethod\n",
    "    def get_model(cls, name:str, checkpoint: Optional[str] = None):\n",
    "        # 在这里实现自定义的获取模型的逻辑\n",
    "        checkpoint_path = cls.get_checkpoint(name, checkpoint)\n",
    "        config_dict = cls.get_model_config_json(name)\n",
    "        config = MyModelConfig(**config_dict)\n",
    "        model = MyModel(config=config)\n",
    "        checkpoint_dict = torch.load(checkpoint_path, weights_only=True)\n",
    "        model.load_state_dict(checkpoint_dict[\"state_dict\"], strict=True)\n",
    "        return model\n",
    "    \n",
    "    def predict(self, input):\n",
    "        input = input.to(self.device)\n",
    "        output = self.model(input)\n",
    "        return output\n",
    "    \n",
    "MyPredicter.register(MyModel.__name__, MyPredicter)\n",
    "\n",
    "\n",
    "predicter = MyPredicter.from_pretrained(name)\n",
    "predicter.predict(torch.randn(12))"
   ]
  }
 ],
 "metadata": {
  "kernelspec": {
   "display_name": "darkit",
   "language": "python",
   "name": "python3"
  },
  "language_info": {
   "codemirror_mode": {
    "name": "ipython",
    "version": 3
   },
   "file_extension": ".py",
   "mimetype": "text/x-python",
   "name": "python",
   "nbconvert_exporter": "python",
   "pygments_lexer": "ipython3",
   "version": "3.9.21"
  }
 },
 "nbformat": 4,
 "nbformat_minor": 2
}
